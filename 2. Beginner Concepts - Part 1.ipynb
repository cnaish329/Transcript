{
 "cells": [
  {
   "cell_type": "markdown",
   "metadata": {},
   "source": [
    "# Beginner Concepts Part 1"
   ]
  },
  {
   "cell_type": "markdown",
   "metadata": {},
   "source": [
    "In the following set of notes, we will start to look over some fundemntal concepts in python. This wil cover:\n",
    "\n",
    " - Printing text\n",
    " - Python Data Types\n",
    " - Numbers\n",
    " - Arithmetic\n",
    " - Strings\n",
    " - Indexing and Slicing Strings\n",
    " - Print and formatting strings\n",
    " - Lists\n",
    " - Dictionaries\n",
    " - Tuples\n",
    " - Sets\n",
    " - Booleans\n",
    " - Variable Assignment and user input\n",
    " - Comparison Operators\n",
    " - Logic operators\n",
    " - If, Elif, Else statements\n",
    " - For Loops\n",
    " - While loops\n",
    " - Range functions\n",
    " - List comprehension\n",
    " - Functions\n",
    " - Methods\n",
    " - Tuple unpacking\n",
    " - Importing modules\n",
    " - Errors and exception handling.\n",
    " \n",
    " As alluded to in the introduction the best way to learn progrmming is doing, thus after each topic I will present a few questions which you can try to answer using Python."
   ]
  },
  {
   "cell_type": "markdown",
   "metadata": {},
   "source": [
    "## Printing Text"
   ]
  },
  {
   "cell_type": "markdown",
   "metadata": {},
   "source": [
    "Sticking to the status-quo, all programming language courses usually start with how to print 'hello world'. In python we accomplish this using the **print()** statement. For example:"
   ]
  },
  {
   "cell_type": "code",
   "execution_count": 1,
   "metadata": {},
   "outputs": [
    {
     "name": "stdout",
     "output_type": "stream",
     "text": [
      "Hello World!!!!!!\n"
     ]
    }
   ],
   "source": [
    "print(\"Hello World!!!!!!\")"
   ]
  },
  {
   "cell_type": "code",
   "execution_count": 2,
   "metadata": {},
   "outputs": [
    {
     "name": "stdout",
     "output_type": "stream",
     "text": [
      "Hello, from Python!\n"
     ]
    }
   ],
   "source": [
    "print('Hello, from Python!')"
   ]
  },
  {
   "cell_type": "markdown",
   "metadata": {},
   "source": [
    "In Python 3, you don't have to use the print statement for python to output. However, if you do not use a print statement then it will specify this through outputting \"**Out[line_num.]**\"."
   ]
  },
  {
   "cell_type": "code",
   "execution_count": 3,
   "metadata": {},
   "outputs": [
    {
     "data": {
      "text/plain": [
       "'Hello world'"
      ]
     },
     "execution_count": 3,
     "metadata": {},
     "output_type": "execute_result"
    }
   ],
   "source": [
    "\"Hello world\""
   ]
  },
  {
   "cell_type": "markdown",
   "metadata": {},
   "source": [
    "See if you can print the following statement: **\"Pteronophobia is the fear of being tickled by feathers\"**"
   ]
  },
  {
   "cell_type": "code",
   "execution_count": 4,
   "metadata": {},
   "outputs": [],
   "source": [
    "#Write the Python code in this cell"
   ]
  },
  {
   "cell_type": "markdown",
   "metadata": {},
   "source": [
    "## Python Data Types"
   ]
  },
  {
   "cell_type": "markdown",
   "metadata": {},
   "source": [
    "In python data types determine the kind of a value and limits what you can use that value for. As talked about earlyer python is an object orientated language and all data vaues are encapsulated in an object, everything in python is an object and each object has a type. There are several built in types in python:\n",
    "\n",
    " - Integers\n",
    " - Floats\n",
    " - Booleans\n",
    " - Strings\n",
    " - Lists\n",
    " - Tuples\n",
    " - Sets\n",
    " - Dictionaries\n",
    "\n",
    "The basic programming concepts we will be covering in these notes are based around these main data types. We can find the type of a value or object in python using the 'type()' function:"
   ]
  },
  {
   "cell_type": "code",
   "execution_count": 5,
   "metadata": {},
   "outputs": [
    {
     "data": {
      "text/plain": [
       "int"
      ]
     },
     "execution_count": 5,
     "metadata": {},
     "output_type": "execute_result"
    }
   ],
   "source": [
    "#Integer\n",
    "type(1) "
   ]
  },
  {
   "cell_type": "code",
   "execution_count": 6,
   "metadata": {},
   "outputs": [
    {
     "data": {
      "text/plain": [
       "float"
      ]
     },
     "execution_count": 6,
     "metadata": {},
     "output_type": "execute_result"
    }
   ],
   "source": [
    "#Float\n",
    "type(3.4)"
   ]
  },
  {
   "cell_type": "code",
   "execution_count": 7,
   "metadata": {},
   "outputs": [
    {
     "data": {
      "text/plain": [
       "str"
      ]
     },
     "execution_count": 7,
     "metadata": {},
     "output_type": "execute_result"
    }
   ],
   "source": [
    "#String\n",
    "type('Hi')"
   ]
  },
  {
   "cell_type": "code",
   "execution_count": 8,
   "metadata": {},
   "outputs": [
    {
     "data": {
      "text/plain": [
       "bool"
      ]
     },
     "execution_count": 8,
     "metadata": {},
     "output_type": "execute_result"
    }
   ],
   "source": [
    "#Boolean\n",
    "type(True)"
   ]
  },
  {
   "cell_type": "markdown",
   "metadata": {},
   "source": [
    "The above types may seem slightly confusing, thus we will go over the main data types in the following text."
   ]
  },
  {
   "cell_type": "markdown",
   "metadata": {},
   "source": [
    "## Numbers"
   ]
  },
  {
   "cell_type": "markdown",
   "metadata": {},
   "source": [
    "Python has 2 basic number types:\n",
    "\n",
    " 1) Integer type - these are full numbers without a fractional component (i.e. 1, 2, 3, 4, 5).\n",
    " \n",
    " 2) Float type - these are numbers with a fractional component (i.e. 1.2, 1.3, 1.4, 1.5).\n",
    " \n",
    "We can use python to perform arithmetic on integer and float data types. We achieve this using arithmetic operators (operators are effectively special symbols in python that carry out arithmetic or logic computations), a few examples are shown below:\n",
    "\n",
    "**Addition and Subtraction**"
   ]
  },
  {
   "cell_type": "code",
   "execution_count": 9,
   "metadata": {},
   "outputs": [
    {
     "data": {
      "text/plain": [
       "11"
      ]
     },
     "execution_count": 9,
     "metadata": {},
     "output_type": "execute_result"
    }
   ],
   "source": [
    "6+5"
   ]
  },
  {
   "cell_type": "code",
   "execution_count": 10,
   "metadata": {},
   "outputs": [
    {
     "data": {
      "text/plain": [
       "-548"
      ]
     },
     "execution_count": 10,
     "metadata": {},
     "output_type": "execute_result"
    }
   ],
   "source": [
    "125 - 673"
   ]
  },
  {
   "cell_type": "markdown",
   "metadata": {},
   "source": [
    "**Multiplication and Division**"
   ]
  },
  {
   "cell_type": "code",
   "execution_count": 11,
   "metadata": {},
   "outputs": [
    {
     "data": {
      "text/plain": [
       "55719"
      ]
     },
     "execution_count": 11,
     "metadata": {},
     "output_type": "execute_result"
    }
   ],
   "source": [
    "453*123"
   ]
  },
  {
   "cell_type": "code",
   "execution_count": 12,
   "metadata": {},
   "outputs": [
    {
     "data": {
      "text/plain": [
       "5.0"
      ]
     },
     "execution_count": 12,
     "metadata": {},
     "output_type": "execute_result"
    }
   ],
   "source": [
    "10/2"
   ]
  },
  {
   "cell_type": "markdown",
   "metadata": {},
   "source": [
    "**Exponent**"
   ]
  },
  {
   "cell_type": "code",
   "execution_count": 13,
   "metadata": {},
   "outputs": [
    {
     "data": {
      "text/plain": [
       "3125"
      ]
     },
     "execution_count": 13,
     "metadata": {},
     "output_type": "execute_result"
    }
   ],
   "source": [
    "5**5"
   ]
  },
  {
   "cell_type": "markdown",
   "metadata": {},
   "source": [
    "**Modulus**\n",
    "\n",
    "This divides the left hand value by the righ hand value and returns the remainder"
   ]
  },
  {
   "cell_type": "code",
   "execution_count": 14,
   "metadata": {},
   "outputs": [
    {
     "data": {
      "text/plain": [
       "2"
      ]
     },
     "execution_count": 14,
     "metadata": {},
     "output_type": "execute_result"
    }
   ],
   "source": [
    "20%6"
   ]
  },
  {
   "cell_type": "markdown",
   "metadata": {},
   "source": [
    "Python has a distinct order by which it performs arithmetic operations, this is listed below from highest precedence to lowest:\n",
    "\n",
    "- Parentheses\n",
    "- Exponential\n",
    "- Multiplication\n",
    "- Division\n",
    "- Addition\n",
    "- Subtraction\n"
   ]
  },
  {
   "cell_type": "markdown",
   "metadata": {},
   "source": [
    "## Strings"
   ]
  },
  {
   "cell_type": "markdown",
   "metadata": {},
   "source": [
    "Strings are quite simply just bits of text, or anything between single or double quotes. Below we have assigned a string to a variable. Remeber we can show the type through the type() function."
   ]
  },
  {
   "cell_type": "code",
   "execution_count": 15,
   "metadata": {},
   "outputs": [
    {
     "data": {
      "text/plain": [
       "'The Sky is Blue'"
      ]
     },
     "execution_count": 15,
     "metadata": {},
     "output_type": "execute_result"
    }
   ],
   "source": [
    "a_string = \"The Sky is Blue\"\n",
    "a_string"
   ]
  },
  {
   "cell_type": "markdown",
   "metadata": {},
   "source": [
    "If you need to write a sentance which has an apostrophe in, python will have trouble processing this. To overcome this you can wrap you sentance within double quotes. This is shown below:"
   ]
  },
  {
   "cell_type": "code",
   "execution_count": 16,
   "metadata": {},
   "outputs": [
    {
     "data": {
      "text/plain": [
       "\"I can't buy a bonzi tree today\""
      ]
     },
     "execution_count": 16,
     "metadata": {},
     "output_type": "execute_result"
    }
   ],
   "source": [
    "\"I can't buy a bonzi tree today\""
   ]
  },
  {
   "cell_type": "markdown",
   "metadata": {},
   "source": [
    "When we have a number of seperate variables we may want to print them out in a specified format or within a sentence. This is achieved using the {} and .format() operator as shown below:"
   ]
  },
  {
   "cell_type": "code",
   "execution_count": 17,
   "metadata": {},
   "outputs": [
    {
     "name": "stdout",
     "output_type": "stream",
     "text": [
      "My number is 12 and my name is David\n"
     ]
    }
   ],
   "source": [
    "num = 12\n",
    "name = 'David'\n",
    "\n",
    "print('My number is {} and my name is {}'.format(num, name))"
   ]
  },
  {
   "cell_type": "markdown",
   "metadata": {},
   "source": [
    "Above you can see in the statement that '{}' represents where a variable is inputted and in the format operator we indicate the order that we input the variable. This has the format of:\n",
    "\n",
    ".format(1st_input, 2nd_input)\n",
    "\n",
    "To add to this we can even specify in a more explicit sense the variable we want to be put where in the statement, as below:"
   ]
  },
  {
   "cell_type": "code",
   "execution_count": 18,
   "metadata": {},
   "outputs": [
    {
     "name": "stdout",
     "output_type": "stream",
     "text": [
      "My age is 12 years old and my name is David\n"
     ]
    }
   ],
   "source": [
    "print('My age is {one} years old and my name is {two}'.format(one=num, two=name))"
   ]
  },
  {
   "cell_type": "markdown",
   "metadata": {},
   "source": [
    "### Indexing Strings\n",
    "\n",
    "Since a string in python is at its core just a sequence of elements; Python allows you to grab elements from the list through telling python where the element is placed in the string.\n",
    "\n",
    "In Python elements in a list are not ordered from 1, the order starts at 0. This order is called an index value. You can use this index value to grab an element using the string_name[index_number] operator. This is demonstrated below:"
   ]
  },
  {
   "cell_type": "code",
   "execution_count": 19,
   "metadata": {},
   "outputs": [
    {
     "data": {
      "text/plain": [
       "'N'"
      ]
     },
     "execution_count": 19,
     "metadata": {},
     "output_type": "execute_result"
    }
   ],
   "source": [
    "s = 'New Guinea'\n",
    "s[0]"
   ]
  },
  {
   "cell_type": "markdown",
   "metadata": {},
   "source": [
    "This extraction of elements from a string can be taken a step further using the slice method. This grabs everything from and up to but not including x to y in the notation 'string_name[x:y]'"
   ]
  },
  {
   "cell_type": "code",
   "execution_count": 20,
   "metadata": {},
   "outputs": [
    {
     "name": "stdout",
     "output_type": "stream",
     "text": [
      "a\n",
      "lock of crows is known as a murder\n",
      "a f\n",
      " f\n"
     ]
    }
   ],
   "source": [
    "h = 'a flock of crows is known as a murder'\n",
    "print(h[0])\n",
    "print(h[3:]) # everything after index 3 is taken\n",
    "print(h[:3]) #takes everything before but not including index 3\n",
    "print(h[1:3]) #takes everything from index 1 up to but not including index 3"
   ]
  },
  {
   "cell_type": "markdown",
   "metadata": {},
   "source": [
    "## Lists\n",
    "\n",
    "This is one of the most useful and versatile types in python. It is just a list of values seperated by commas between square brackets. Importantly lists can contain any other data type, including more lists and the elements within a list do not need to be of the same type either."
   ]
  },
  {
   "cell_type": "code",
   "execution_count": 21,
   "metadata": {},
   "outputs": [
    {
     "name": "stdout",
     "output_type": "stream",
     "text": [
      "list1 =  ['Sarah', 'Ellie', 'John']\n",
      "list2 =  [2, 4, 6, 8, 10]\n",
      "list3 =  ['a', 'b', 1, True]\n"
     ]
    }
   ],
   "source": [
    "list1 = ['Sarah', 'Ellie', 'John']\n",
    "list2 = [2, 4, 6, 8, 10]\n",
    "list3 = ['a', 'b', 1, True]\n",
    "\n",
    "print(\"list1 = \", list1)\n",
    "print(\"list2 = \", list2)\n",
    "print(\"list3 = \", list3)"
   ]
  },
  {
   "cell_type": "markdown",
   "metadata": {},
   "source": [
    "We can easily use the .append() operator to add an element to the list"
   ]
  },
  {
   "cell_type": "code",
   "execution_count": 22,
   "metadata": {},
   "outputs": [
    {
     "data": {
      "text/plain": [
       "['Sarah', 'Ellie', 'John', 'd']"
      ]
     },
     "execution_count": 22,
     "metadata": {},
     "output_type": "execute_result"
    }
   ],
   "source": [
    "list1.append('d')\n",
    "list1"
   ]
  },
  {
   "cell_type": "markdown",
   "metadata": {},
   "source": [
    "### Accessing elements in lists\n",
    "\n",
    "We can use the same indexing method we used to grab elements in strings to do so in lists."
   ]
  },
  {
   "cell_type": "code",
   "execution_count": 23,
   "metadata": {},
   "outputs": [
    {
     "data": {
      "text/plain": [
       "'Sarah'"
      ]
     },
     "execution_count": 23,
     "metadata": {},
     "output_type": "execute_result"
    }
   ],
   "source": [
    "list1[0]"
   ]
  },
  {
   "cell_type": "code",
   "execution_count": 24,
   "metadata": {},
   "outputs": [
    {
     "data": {
      "text/plain": [
       "[4, 6, 8, 10]"
      ]
     },
     "execution_count": 24,
     "metadata": {},
     "output_type": "execute_result"
    }
   ],
   "source": [
    "list2[1:5]"
   ]
  },
  {
   "cell_type": "markdown",
   "metadata": {},
   "source": [
    "### Updating Lists\n",
    "\n",
    "We can edit or update list elements by grabbing an element from a list as before and assigning that element as somethign else:"
   ]
  },
  {
   "cell_type": "code",
   "execution_count": 25,
   "metadata": {},
   "outputs": [
    {
     "name": "stdout",
     "output_type": "stream",
     "text": [
      "['new word', 'Ellie', 'John', 'd']\n"
     ]
    }
   ],
   "source": [
    "list1[0] = 'new word'\n",
    "print(list1)"
   ]
  },
  {
   "cell_type": "markdown",
   "metadata": {},
   "source": [
    "### Nested lists\n",
    "\n",
    "A nested lists is a list within a list."
   ]
  },
  {
   "cell_type": "code",
   "execution_count": 26,
   "metadata": {},
   "outputs": [
    {
     "name": "stdout",
     "output_type": "stream",
     "text": [
      "[1, 2, [3, 4]]\n"
     ]
    }
   ],
   "source": [
    "nest_list = [1, 2, [3, 4]]\n",
    "\n",
    "print(nest_list)"
   ]
  },
  {
   "cell_type": "markdown",
   "metadata": {},
   "source": [
    "You can now access the list within a list"
   ]
  },
  {
   "cell_type": "code",
   "execution_count": 27,
   "metadata": {},
   "outputs": [
    {
     "data": {
      "text/plain": [
       "[3, 4]"
      ]
     },
     "execution_count": 27,
     "metadata": {},
     "output_type": "execute_result"
    }
   ],
   "source": [
    "nest_list[2]"
   ]
  },
  {
   "cell_type": "markdown",
   "metadata": {},
   "source": [
    "You can grab an element from within the nested list by using nested indexing - indexing with two sets of square brackets. Here the first set refers to the large list and the 2nd is the nested list:"
   ]
  },
  {
   "cell_type": "code",
   "execution_count": 28,
   "metadata": {},
   "outputs": [
    {
     "data": {
      "text/plain": [
       "4"
      ]
     },
     "execution_count": 28,
     "metadata": {},
     "output_type": "execute_result"
    }
   ],
   "source": [
    "nest_list[2][1]"
   ]
  },
  {
   "cell_type": "markdown",
   "metadata": {},
   "source": [
    "### Other operations you can perform on lists and strings"
   ]
  },
  {
   "cell_type": "code",
   "execution_count": 29,
   "metadata": {},
   "outputs": [
    {
     "name": "stdout",
     "output_type": "stream",
     "text": [
      "[-10, -5, 0, 5, 10, 15, 20, 25, 30, 40, 45]\n",
      "[-15, -10, -5, 0, 5, 10, 15, 20, 25, 30, 40, 45]\n",
      "[-15, -10, 0, 5, 10, 15, 20, 25, 30, 40, 45]\n",
      "11\n",
      "4\n",
      "True\n",
      "['hey', 'hey', 'hey', 'hey']\n",
      "1\n",
      "2\n",
      "3\n"
     ]
    }
   ],
   "source": [
    "#Example list\n",
    "C = [-10, -5, 0, 5, 10, 15, 20, 25, 30]\n",
    "\n",
    "#Add a list to the end of a list\n",
    "C=C+[40,45]\n",
    "print (C)\n",
    "\n",
    "#Insert an element at an index of your choice:\n",
    "C.insert(0, -15)     # Insert -15 as index 0\n",
    "print (C)\n",
    "\n",
    "#Delete an element of your choice\n",
    "del C[2]             # delete 3rd element\n",
    "print (C)\n",
    "\n",
    "#Print the length of the list\n",
    "print (len(C))\n",
    "\n",
    "#Find the index of an element with a certain value\n",
    "print (C.index(10))   # Find the index of the list with the value 10\n",
    "\n",
    "#Determine if a value is conatined within a list, in this case 10\n",
    "print (10 in C)\n",
    "\n",
    "#Repitition\n",
    "d = ['hey']\n",
    "print(d*4)\n",
    "\n",
    "#Iteration - we can go through the list and print the elements\n",
    "for x in [1,2,3]:\n",
    "    print(x) # don't worry if you don't understand this we will go through for loops at a later stage.\n"
   ]
  },
  {
   "cell_type": "markdown",
   "metadata": {},
   "source": [
    "## Variable assignment"
   ]
  },
  {
   "cell_type": "markdown",
   "metadata": {},
   "source": [
    "In some cases a user may want to assign an object or data type to a variable. Variables are essentially symbols or words in python which represent a value you are using in a program. More technically this is the assignment of a storage location to a specified value. The use can now call upon that variable name to access the stored value.\n",
    "\n",
    "To assign a value to a variable in python we use the assignment operator which is the '=' sign. "
   ]
  },
  {
   "cell_type": "code",
   "execution_count": 30,
   "metadata": {},
   "outputs": [
    {
     "name": "stdout",
     "output_type": "stream",
     "text": [
      "5\n"
     ]
    }
   ],
   "source": [
    "#Assign integers to variables x and y\n",
    "x = 2\n",
    "y = 5\n",
    "print(y)"
   ]
  },
  {
   "cell_type": "markdown",
   "metadata": {},
   "source": [
    "We can perform operations using these variables"
   ]
  },
  {
   "cell_type": "code",
   "execution_count": 31,
   "metadata": {},
   "outputs": [
    {
     "data": {
      "text/plain": [
       "7"
      ]
     },
     "execution_count": 31,
     "metadata": {},
     "output_type": "execute_result"
    }
   ],
   "source": [
    "x+y"
   ]
  },
  {
   "cell_type": "markdown",
   "metadata": {},
   "source": [
    "You can also set variables equal to a mathematical expression:"
   ]
  },
  {
   "cell_type": "code",
   "execution_count": 32,
   "metadata": {},
   "outputs": [
    {
     "data": {
      "text/plain": [
       "34"
      ]
     },
     "execution_count": 32,
     "metadata": {},
     "output_type": "execute_result"
    }
   ],
   "source": [
    "z = 4 + 5 *6\n",
    "z"
   ]
  },
  {
   "cell_type": "markdown",
   "metadata": {},
   "source": [
    "You can assign any python data type to variable:"
   ]
  },
  {
   "cell_type": "code",
   "execution_count": 33,
   "metadata": {},
   "outputs": [],
   "source": [
    "my_string = 'Hello, World!'\n",
    "my_flt = 45.06\n",
    "my_bool = 5 > 9 #A Boolean value will return either True or False\n",
    "my_list = ['item_1', 'item_2', 'item_3', 'item_4']\n",
    "my_tuple = ('one', 'two', 'three')\n",
    "my_dict = {'letter': 'g', 'number': 'seven', 'symbol': '&'}"
   ]
  },
  {
   "cell_type": "markdown",
   "metadata": {},
   "source": [
    "## User Input"
   ]
  },
  {
   "cell_type": "markdown",
   "metadata": {},
   "source": [
    "In some cases you may want a user to interact with the code and change the values assigned to variables without them actually touching the code, in case they mess it up!!! This can be achieved through the 'input()' operator. This allows a user to assign a value to a variable without directly touching the python script."
   ]
  },
  {
   "cell_type": "code",
   "execution_count": 34,
   "metadata": {},
   "outputs": [
    {
     "name": "stdout",
     "output_type": "stream",
     "text": [
      "Enter your name Calum\n",
      "Your name is = Calum\n"
     ]
    }
   ],
   "source": [
    "username = input(\"Enter your name \")\n",
    "print(\"Your name is =\", username)"
   ]
  },
  {
   "cell_type": "code",
   "execution_count": 35,
   "metadata": {},
   "outputs": [
    {
     "name": "stdout",
     "output_type": "stream",
     "text": [
      "x = 5\n",
      "y = 6\n",
      "x + y = 56\n"
     ]
    }
   ],
   "source": [
    "x = input(\"x = \")\n",
    "y = input(\"y = \")\n",
    "print(\"x + y =\", x+y)"
   ]
  },
  {
   "cell_type": "markdown",
   "metadata": {},
   "source": [
    "From mathematics you are already familiar with variables (e.g. $v_0=5,\\quad g=9.81,\\quad t=0.6,\\quad y = v_0t -{1\\over2}gt^2$) and you already know how important they are for working out complicated problems. Similarly, you can use variables in a program to make it easier to read and understand, this can be combined with user input code to make the code interactive and easyer to adjust the varibales without adjusting the code directly."
   ]
  },
  {
   "cell_type": "code",
   "execution_count": 36,
   "metadata": {},
   "outputs": [
    {
     "name": "stdout",
     "output_type": "stream",
     "text": [
      "v0 =5\n",
      "Max height of ball =  -440.5 m\n"
     ]
    }
   ],
   "source": [
    "# Program for computing the height of a ball in vertical motion.\n",
    "v0 = float(input(\"v0 =\"))    # Set initial velocity in m/s.\n",
    "g = 9.81  # Set acceleration due to gravity in m/s^2.\n",
    "t = 10.0   # Time at which we want to know the height of the ball in seconds.\n",
    "y = v0*t - 0.5*g*t**2 # Calculate the vertical position\n",
    "print('Max height of ball = ', y, 'm')"
   ]
  },
  {
   "cell_type": "markdown",
   "metadata": {},
   "source": [
    "## Dictionaries"
   ]
  },
  {
   "cell_type": "markdown",
   "metadata": {},
   "source": [
    "Dictionaries are a Python data type similar to lists, however, unlike lists they consist of an unordered set of objects which can be accessed via keys not via index. In technical terms dictionaries are an associative arrays, where any value within a dictionary is mapped to a key. \n",
    "\n",
    "Similarily to lists the value in a dictionary can be of any python data type included nested dictionaries. A dictionary is indicated by wiggly brackets, as shown by the empty dictionary below:"
   ]
  },
  {
   "cell_type": "code",
   "execution_count": 37,
   "metadata": {},
   "outputs": [
    {
     "data": {
      "text/plain": [
       "{}"
      ]
     },
     "execution_count": 37,
     "metadata": {},
     "output_type": "execute_result"
    }
   ],
   "source": [
    "Dictionary = {}\n",
    "\n",
    "#Print out the empty dictionary\n",
    "Dictionary"
   ]
  },
  {
   "cell_type": "markdown",
   "metadata": {},
   "source": [
    "To create a dictionary with objects inside you need to specify both the keys and their respective values in the general format of:\n",
    "\n",
    "**Dictionary = {'key1':'value1', 'key2':'Value2'}**\n",
    "\n",
    "Now to access a value in a dictionary you cannot use the same operators as we used to extract elements from lists or strings. Rather, you are required to pass in the name of the key in the foloowing format:\n",
    "\n",
    "**Dictionary['key#']**\n",
    "\n",
    "Where the hash stands for the key number. Below are some examples."
   ]
  },
  {
   "cell_type": "code",
   "execution_count": 38,
   "metadata": {},
   "outputs": [
    {
     "name": "stdout",
     "output_type": "stream",
     "text": [
      "123\n"
     ]
    }
   ],
   "source": [
    "#create a dictionary:\n",
    "\n",
    "dictionary = {'key1':'value', 'key2':123}\n",
    "\n",
    "#print key 2\n",
    "\n",
    "print(dictionary['key2'])\n"
   ]
  },
  {
   "cell_type": "markdown",
   "metadata": {},
   "source": [
    "As alluded to previously dictionaries can store any data type:"
   ]
  },
  {
   "cell_type": "code",
   "execution_count": 39,
   "metadata": {},
   "outputs": [
    {
     "name": "stdout",
     "output_type": "stream",
     "text": [
      "[1, 2, 3]\n"
     ]
    }
   ],
   "source": [
    "dictionary2 = {'k1':[1, 2, 3]}\n",
    "\n",
    "#Print the dictionary key 1\n",
    "\n",
    "print(dictionary2['k1'])"
   ]
  },
  {
   "cell_type": "markdown",
   "metadata": {},
   "source": [
    "In the case a dictionary contains a list and we want to extract an element from the list you need to use both the dictionary method of extracting the value assigned to a key. In this case the list then to add to that you use the list subsetting method to extract an element from that list."
   ]
  },
  {
   "cell_type": "code",
   "execution_count": 40,
   "metadata": {},
   "outputs": [
    {
     "name": "stdout",
     "output_type": "stream",
     "text": [
      "1\n",
      "1\n"
     ]
    }
   ],
   "source": [
    "#Produce a list containing the list key within dictionary 2\n",
    "mylist = dictionary2['k1']\n",
    "\n",
    "#Extract the 1st element\n",
    "print(mylist[0])\n",
    "\n",
    "#or\n",
    "print(dictionary2['k1'][0])"
   ]
  },
  {
   "cell_type": "markdown",
   "metadata": {},
   "source": [
    "We can store a list within a dictionary within a dictionary  - getting slightly confusing!!"
   ]
  },
  {
   "cell_type": "code",
   "execution_count": 41,
   "metadata": {},
   "outputs": [
    {
     "name": "stdout",
     "output_type": "stream",
     "text": [
      "2\n"
     ]
    }
   ],
   "source": [
    "#Create list within a dictionary within a dictionary\n",
    "d = {'k1':{'innerkey':[1,2,3]}}\n",
    "\n",
    "# Grab second element\n",
    "print(d['k1']['innerkey'][1])"
   ]
  },
  {
   "cell_type": "markdown",
   "metadata": {},
   "source": [
    "Using the information from the lists section and this dictionary section try grab from the below dictionary the word 'tree'"
   ]
  },
  {
   "cell_type": "code",
   "execution_count": 42,
   "metadata": {},
   "outputs": [
    {
     "data": {
      "text/plain": [
       "'tree'"
      ]
     },
     "execution_count": 42,
     "metadata": {},
     "output_type": "execute_result"
    }
   ],
   "source": [
    "d = {'k1':[6,7,3,{'Confusing':['This','is','Crazy',{'nearly there':[10,5,7,8,'tree']}]}]}\n",
    "d['k1'][3]['Confusing'][3]['nearly there'][4]"
   ]
  },
  {
   "cell_type": "markdown",
   "metadata": {},
   "source": [
    "If the above notation regarding dictionaries seems slightly \"congested\" or hard to read dictionaries can also be formed using the following format:"
   ]
  },
  {
   "cell_type": "code",
   "execution_count": 43,
   "metadata": {},
   "outputs": [],
   "source": [
    "Emails = {\n",
    "    \"Sarah\" : 'S.hudson@yahoo.com',\n",
    "    \"Ben\" : 'ben96@gmail.com',\n",
    "    \"Norah\" : 'Norahfive@wahoo.co.uk'\n",
    "}"
   ]
  },
  {
   "cell_type": "markdown",
   "metadata": {},
   "source": [
    "### Removing a Value"
   ]
  },
  {
   "cell_type": "markdown",
   "metadata": {},
   "source": [
    "To remove a specified object from a dictionary you can use one of the following notations"
   ]
  },
  {
   "cell_type": "code",
   "execution_count": 44,
   "metadata": {},
   "outputs": [
    {
     "name": "stdout",
     "output_type": "stream",
     "text": [
      "{'Ben': 'ben96@gmail.com', 'Norah': 'Norahfive@wahoo.co.uk'}\n"
     ]
    }
   ],
   "source": [
    "del Emails[\"Sarah\"]\n",
    "print(Emails)"
   ]
  },
  {
   "cell_type": "markdown",
   "metadata": {},
   "source": [
    "Or"
   ]
  },
  {
   "cell_type": "code",
   "execution_count": 45,
   "metadata": {},
   "outputs": [
    {
     "name": "stdout",
     "output_type": "stream",
     "text": [
      "{'Sarah': 'S.hudson@yahoo.com', 'Norah': 'Norahfive@wahoo.co.uk'}\n"
     ]
    }
   ],
   "source": [
    "Emails = {\n",
    "    \"Sarah\" : 'S.hudson@yahoo.com',\n",
    "    \"Ben\" : 'ben96@gmail.com',\n",
    "    \"Norah\" : 'Norahfive@wahoo.co.uk'\n",
    "}\n",
    "Emails.pop(\"Ben\")\n",
    "print(Emails)"
   ]
  },
  {
   "cell_type": "markdown",
   "metadata": {},
   "source": [
    "### Other Dictionary Operations"
   ]
  },
  {
   "cell_type": "markdown",
   "metadata": {},
   "source": [
    "Below are some other operations you can perform on a dictionary"
   ]
  },
  {
   "cell_type": "code",
   "execution_count": 46,
   "metadata": {},
   "outputs": [],
   "source": [
    "Emails = {\n",
    "    \"Sarah\" : 'S.hudson@yahoo.com',\n",
    "    \"Ben\" : 'ben96@gmail.com',\n",
    "    \"Norah\" : 'Norahfive@wahoo.co.uk'\n",
    "}"
   ]
  },
  {
   "cell_type": "code",
   "execution_count": 47,
   "metadata": {},
   "outputs": [
    {
     "name": "stdout",
     "output_type": "stream",
     "text": [
      "dict_keys(['Sarah', 'Ben', 'Norah'])\n",
      "dict_values(['S.hudson@yahoo.com', 'ben96@gmail.com', 'Norahfive@wahoo.co.uk'])\n",
      "{'Sarah': 'S.hudson@yahoo.com', 'Ben': 'ben96@gmail.com', 'Norah': 'Norahfive@wahoo.co.uk', 'David': 'davidmail@gmail.com'}\n",
      "{'Sarah': 'S.hudson@yahoo.com', 'Ben': 'ben96@gmail.com', 'Norah': 'Norah1997@wahoo.co.uk', 'David': 'davidmail@gmail.com'}\n",
      "Num. of Items =  4\n"
     ]
    }
   ],
   "source": [
    "#Get a list of the keys\n",
    "print(Emails.keys())\n",
    "\n",
    "#Get a list of all the values\n",
    "print(Emails.values())\n",
    "\n",
    "#Add an entry\n",
    "Emails[\"David\"]='davidmail@gmail.com'\n",
    "print(Emails)\n",
    "\n",
    "#Change an entry\n",
    "Emails[\"Norah\"]='Norah1997@wahoo.co.uk'\n",
    "print(Emails)\n",
    "\n",
    "#Number of items\n",
    "print(\"Num. of Items = \", len(Emails))"
   ]
  },
  {
   "cell_type": "markdown",
   "metadata": {},
   "source": [
    "## Booleans"
   ]
  },
  {
   "cell_type": "markdown",
   "metadata": {},
   "source": [
    "Boolean values are two constant objects:\n",
    "\n",
    "-True\n",
    "-False\n",
    "\n",
    "They are used to represent truth values and in numeric contexts, for example when used as an argument to an arithmetic operator they behave as integers - where True = 1 and Falso = 0. \n",
    "\n",
    "REMEMBER THE FIRST LETTER MUST BE CAPITALISED.\n",
    "\n",
    "Some example boolean operators are given below:"
   ]
  },
  {
   "cell_type": "code",
   "execution_count": 48,
   "metadata": {},
   "outputs": [
    {
     "name": "stdout",
     "output_type": "stream",
     "text": [
      "C == 40 =  False\n",
      "C != 40 =  True\n",
      "C >= 40 =  False\n",
      "C < 40 =  True\n"
     ]
    }
   ],
   "source": [
    "#Assign a value to c\n",
    "C = 34\n",
    "\n",
    "print(\"C == 40 = \", C == 40) #c is equal to \n",
    "print(\"C != 40 = \", C != 40)  #c is not equal to\n",
    "print(\"C >= 40 = \", C >= 40) #c is greater than or equal to\n",
    "print(\"C < 40 = \", C < 40) #c is smaller than."
   ]
  },
  {
   "cell_type": "markdown",
   "metadata": {},
   "source": [
    "Booleans conditions can be combined with and and if statements:\n",
    "\n",
    "* Rule 1: (**C1** *and* **C2**) is *True* only if both **C1** and **C2** are *True*\n",
    "* Rule 2: (**C1** *or* **C2**) is *True* if either **C1** or **C2** are *True*\n",
    "\n",
    "For example:"
   ]
  },
  {
   "cell_type": "code",
   "execution_count": 49,
   "metadata": {},
   "outputs": [
    {
     "name": "stdout",
     "output_type": "stream",
     "text": [
      "False\n"
     ]
    }
   ],
   "source": [
    "x=0; y=1.2\n",
    "print (x >= 0 and y < 1)"
   ]
  },
  {
   "cell_type": "markdown",
   "metadata": {},
   "source": [
    "Below are a number of boolean statements, see if you can guess what the output will be for each case to test your knowledge before running the cell:"
   ]
  },
  {
   "cell_type": "code",
   "execution_count": 50,
   "metadata": {},
   "outputs": [
    {
     "name": "stdout",
     "output_type": "stream",
     "text": [
      "Case 1:  False\n",
      "Case 2:  False\n",
      "Case 3:  True\n",
      "Case 4:  True\n",
      "Case 5:  False\n",
      "Case 6:  True\n",
      "Case 7:  True\n",
      "Case 8:  False\n",
      "Case 9:  True\n",
      "Case 10:  False\n",
      "Case 11:  False\n",
      "Case 12:  True\n",
      "Case 13:  False\n",
      "Case 14:  True\n"
     ]
    }
   ],
   "source": [
    "C = 41\n",
    "\n",
    "print (\"Case 1: \", C == 40)\n",
    "print (\"Case 2: \", C != 40 and C < 41)\n",
    "print (\"Case 3: \", C != 40 or C < 41)\n",
    "print (\"Case 4: \", not C == 40)\n",
    "print (\"Case 5: \", not C > 40)\n",
    "print (\"Case 6: \", C <= 41)\n",
    "print (\"Case 7: \", not False)\n",
    "print (\"Case 8: \", True and False)\n",
    "print (\"Case 9: \", False or True)\n",
    "print (\"Case 10: \", False or False or False)\n",
    "print (\"Case 11: \", True and True and False)\n",
    "print (\"Case 12: \", False == 0)\n",
    "print (\"Case 13: \", True == 0)\n",
    "print (\"Case 14: \", True == 1)"
   ]
  },
  {
   "cell_type": "markdown",
   "metadata": {},
   "source": [
    "Later on in these notes we will touch upon comparison operators which make use of boolean statements."
   ]
  },
  {
   "cell_type": "markdown",
   "metadata": {},
   "source": [
    "## Tuples"
   ]
  },
  {
   "cell_type": "markdown",
   "metadata": {},
   "source": [
    "Tuples much like lists are a collection of python objects seperated by commas, and display the same characteristics in terms of indexing, nested objects and repitition. However, tuples are different to lists because they are immutable, whereas lists are mutable. Hence they are useful if you do not want the user to be able to change the items within the sequence of objects.\n",
    "\n",
    "To add to this tuples are created between parenthesis not square brackets like lists."
   ]
  },
  {
   "cell_type": "code",
   "execution_count": 51,
   "metadata": {},
   "outputs": [
    {
     "name": "stdout",
     "output_type": "stream",
     "text": [
      "1\n"
     ]
    }
   ],
   "source": [
    "#Create a tuple\n",
    "t = (1, 2, 3)\n",
    "\n",
    "#We can access various elements in a tuple through the same indexing method\n",
    "# as we used for strings and lists.\n",
    "\n",
    "print(t[0])"
   ]
  },
  {
   "cell_type": "markdown",
   "metadata": {},
   "source": [
    "### Concatinating tuples"
   ]
  },
  {
   "cell_type": "code",
   "execution_count": 52,
   "metadata": {},
   "outputs": [
    {
     "data": {
      "text/plain": [
       "(2, 4, 6, 8, 1, 3, 5, 7)"
      ]
     },
     "execution_count": 52,
     "metadata": {},
     "output_type": "execute_result"
    }
   ],
   "source": [
    "tuple1 = (2, 4, 6, 8)\n",
    "tuple2 = (1, 3, 5, 7)\n",
    "\n",
    "tuple1+tuple2"
   ]
  },
  {
   "cell_type": "markdown",
   "metadata": {},
   "source": [
    "### Creating nested tuples"
   ]
  },
  {
   "cell_type": "code",
   "execution_count": 53,
   "metadata": {},
   "outputs": [
    {
     "data": {
      "text/plain": [
       "((2, 4, 6, 8), (1, 3, 5, 7))"
      ]
     },
     "execution_count": 53,
     "metadata": {},
     "output_type": "execute_result"
    }
   ],
   "source": [
    "tuple1 = (2, 4, 6, 8)\n",
    "tuple2 = (1, 3, 5, 7)\n",
    "tuple3 = (tuple1, tuple2)\n",
    "tuple3"
   ]
  },
  {
   "cell_type": "markdown",
   "metadata": {},
   "source": [
    "### Repeatable tuples"
   ]
  },
  {
   "cell_type": "code",
   "execution_count": 54,
   "metadata": {},
   "outputs": [
    {
     "data": {
      "text/plain": [
       "('Ocean', 'Ocean', 'Ocean', 'Ocean')"
      ]
     },
     "execution_count": 54,
     "metadata": {},
     "output_type": "execute_result"
    }
   ],
   "source": [
    "tuple3 = ('Ocean',)*4\n",
    "tuple3"
   ]
  },
  {
   "cell_type": "markdown",
   "metadata": {},
   "source": [
    "Just to prove to you that tuples are immutable we can try and update an element as we would do with a list:"
   ]
  },
  {
   "cell_type": "code",
   "execution_count": 55,
   "metadata": {},
   "outputs": [
    {
     "ename": "TypeError",
     "evalue": "'tuple' object does not support item assignment",
     "output_type": "error",
     "traceback": [
      "\u001b[1;31m---------------------------------------------------------------------------\u001b[0m",
      "\u001b[1;31mTypeError\u001b[0m                                 Traceback (most recent call last)",
      "\u001b[1;32m<ipython-input-55-6595747f4e11>\u001b[0m in \u001b[0;36m<module>\u001b[1;34m()\u001b[0m\n\u001b[0;32m      1\u001b[0m \u001b[0mtuple5\u001b[0m \u001b[1;33m=\u001b[0m \u001b[1;33m(\u001b[0m\u001b[1;36m2\u001b[0m\u001b[1;33m,\u001b[0m \u001b[1;36m4\u001b[0m\u001b[1;33m,\u001b[0m \u001b[1;36m6\u001b[0m\u001b[1;33m,\u001b[0m \u001b[1;36m8\u001b[0m\u001b[1;33m)\u001b[0m\u001b[1;33m\u001b[0m\u001b[0m\n\u001b[1;32m----> 2\u001b[1;33m \u001b[0mtuple5\u001b[0m\u001b[1;33m[\u001b[0m\u001b[1;36m0\u001b[0m\u001b[1;33m]\u001b[0m \u001b[1;33m=\u001b[0m \u001b[1;36m5\u001b[0m\u001b[1;33m\u001b[0m\u001b[0m\n\u001b[0m\u001b[0;32m      3\u001b[0m \u001b[0mtuple5\u001b[0m\u001b[1;33m\u001b[0m\u001b[0m\n",
      "\u001b[1;31mTypeError\u001b[0m: 'tuple' object does not support item assignment"
     ]
    }
   ],
   "source": [
    "tuple5 = (2, 4, 6, 8)\n",
    "tuple5[0] = 5\n",
    "tuple5"
   ]
  },
  {
   "cell_type": "markdown",
   "metadata": {},
   "source": [
    "There are many more operations you can perform on tuples as you can do with lists and dictionaries, however, because the methods are very similar I encourage you to research some on the internet or follow the link below:\n",
    "\n",
    "https://www.tutorialspoint.com/python/python_tuples.htm"
   ]
  },
  {
   "cell_type": "markdown",
   "metadata": {},
   "source": [
    "## Sets\n",
    "\n",
    "A set in python is a collection of unique elements, in relation to lists, sets are basically just lists with no duplicate entries. These are shown by wiggly brackets with the elements inside. \n",
    "\n",
    "Since sets only constitute unique elements, even if you repeat values within the wiggly brackets it will only return the unique elements."
   ]
  },
  {
   "cell_type": "code",
   "execution_count": 56,
   "metadata": {},
   "outputs": [
    {
     "data": {
      "text/plain": [
       "{1, 2, 3}"
      ]
     },
     "execution_count": 56,
     "metadata": {},
     "output_type": "execute_result"
    }
   ],
   "source": [
    "s1 = {1, 2, 3}\n",
    "s1"
   ]
  },
  {
   "cell_type": "code",
   "execution_count": 57,
   "metadata": {},
   "outputs": [
    {
     "data": {
      "text/plain": [
       "{1, 2, 3}"
      ]
     },
     "execution_count": 57,
     "metadata": {},
     "output_type": "execute_result"
    }
   ],
   "source": [
    "s1 = {1,1,2,2,3,3}\n",
    "s1"
   ]
  },
  {
   "cell_type": "markdown",
   "metadata": {},
   "source": [
    "Interestingly, python has a built in set operator which will return the unique elements of a list, this is shown below:"
   ]
  },
  {
   "cell_type": "code",
   "execution_count": 58,
   "metadata": {},
   "outputs": [
    {
     "data": {
      "text/plain": [
       "{1, 2, 3, 4}"
      ]
     },
     "execution_count": 58,
     "metadata": {},
     "output_type": "execute_result"
    }
   ],
   "source": [
    "list_1 = [1, 1, 2, 2, 3, 3, 4, 4]\n",
    "set(list_1)"
   ]
  },
  {
   "cell_type": "markdown",
   "metadata": {},
   "source": [
    "You can also add elements to a set using the add operator as exampled below:"
   ]
  },
  {
   "cell_type": "code",
   "execution_count": 59,
   "metadata": {},
   "outputs": [
    {
     "name": "stdout",
     "output_type": "stream",
     "text": [
      "{1, 2, 3, 5}\n"
     ]
    }
   ],
   "source": [
    "#Create a set\n",
    "s = {1,2,3}\n",
    "\n",
    "#Add 5, if you try to add 5 twice it will remain the same as a set is characterised by a set of unique elements\n",
    "s.add(5)\n",
    "\n",
    "print(s)"
   ]
  },
  {
   "cell_type": "markdown",
   "metadata": {},
   "source": [
    "The reason sets are important in python, or one of the reasons, is that they have the ability to calculate the differences and intersections between other sets. i.e. you can find out if there are the same unique elements in more than one set. Lets look at an example:\n",
    "\n",
    "We are at an induction day for a company and new employees have been automatically assigned to two rooms by a HR. Someone has bought to the attention of the person running event that there appears to be the same people assigned to more than one room. The organizer, being an avid programmer decides to check this using python."
   ]
  },
  {
   "cell_type": "code",
   "execution_count": 60,
   "metadata": {},
   "outputs": [
    {
     "name": "stdout",
     "output_type": "stream",
     "text": [
      "{'John'}\n",
      "{'John'}\n"
     ]
    }
   ],
   "source": [
    "room1 = set([\"Jacob\", \"John\", \"Emily\", \"India\"])\n",
    "room2 = set([\"John\", \"Mark\", \"Selina\", \"Norah\"])\n",
    "\n",
    "#Find which person has been assigned to go in both rooms\n",
    "print(room1.intersection(room2))\n",
    "print(room2.intersection(room1))"
   ]
  },
  {
   "cell_type": "markdown",
   "metadata": {},
   "source": [
    "We can also find out which employees have only been correctly assigned one room, using the \"symmetric_difference\" operator."
   ]
  },
  {
   "cell_type": "code",
   "execution_count": 61,
   "metadata": {},
   "outputs": [
    {
     "name": "stdout",
     "output_type": "stream",
     "text": [
      "{'India', 'Jacob', 'Emily', 'Norah', 'Mark', 'Selina'}\n",
      "{'India', 'Jacob', 'Emily', 'Norah', 'Mark', 'Selina'}\n"
     ]
    }
   ],
   "source": [
    "print(room1.symmetric_difference(room2))\n",
    "print(room2.symmetric_difference(room1))"
   ]
  },
  {
   "cell_type": "markdown",
   "metadata": {},
   "source": [
    "We can then see a list of all the employees attending the induction day, using the \".union()\" method."
   ]
  },
  {
   "cell_type": "code",
   "execution_count": 63,
   "metadata": {},
   "outputs": [
    {
     "name": "stdout",
     "output_type": "stream",
     "text": [
      "{'India', 'Jacob', 'Emily', 'John', 'Norah', 'Mark', 'Selina'}\n"
     ]
    }
   ],
   "source": [
    "print(room1.union(room2))"
   ]
  },
  {
   "cell_type": "markdown",
   "metadata": {},
   "source": [
    "## Comparison Operators"
   ]
  },
  {
   "cell_type": "markdown",
   "metadata": {},
   "source": [
    "Comparison operators allow you to compare to elements to one another this includes greater than, equal to and less than etc. Comparison operators return a boolean value of True or False depending on the statement. The main operators were breifly discussed in the boolean section, however, the main operators are presented below:\n",
    "\n",
    " - '==' - This represents equal to.\n",
    " - '!=' - This represents not equal to.\n",
    " - '<>' - This also represents not equal to.\n",
    " - '>' - Left value is greater than right value.\n",
    " - '<' - Rght value is gretaer than the left value.\n",
    " - '>=' - Left value is greater than or equal to the right value.\n",
    " - '<=' - The right value is greater than or equal to the left value.\n",
    " \n",
    "If the conditions above are met then python will return true."
   ]
  },
  {
   "cell_type": "code",
   "execution_count": 64,
   "metadata": {},
   "outputs": [
    {
     "name": "stdout",
     "output_type": "stream",
     "text": [
      "False\n",
      "True\n",
      "False\n",
      "True\n",
      "True\n",
      "True\n"
     ]
    }
   ],
   "source": [
    "print(1>2)\n",
    "print(1<2)\n",
    "print(1>=2)\n",
    "print(1<=1)\n",
    "print(1==1)\n",
    "print(1!=2)"
   ]
  },
  {
   "cell_type": "markdown",
   "metadata": {},
   "source": [
    "These comparison operators can also be applied to strings"
   ]
  },
  {
   "cell_type": "code",
   "execution_count": 65,
   "metadata": {},
   "outputs": [
    {
     "data": {
      "text/plain": [
       "False"
      ]
     },
     "execution_count": 65,
     "metadata": {},
     "output_type": "execute_result"
    }
   ],
   "source": [
    "'hi' == 'hello'"
   ]
  },
  {
   "cell_type": "markdown",
   "metadata": {},
   "source": [
    "## Logic Operators\n",
    "\n",
    "These have already been described in the boolean sections, we will breifly go over this again and also add some detail on the confusing topic of integrating logic operators on booleans.\n",
    "\n",
    "Logical opertaors are 'and', 'or', 'not' operators, where:\n",
    "\n",
    "- 'and' = True if both the operands are true.\n",
    "- 'or' = True if either of the operands is true.\n"
   ]
  },
  {
   "cell_type": "code",
   "execution_count": 66,
   "metadata": {},
   "outputs": [
    {
     "name": "stdout",
     "output_type": "stream",
     "text": [
      "True\n",
      "False\n"
     ]
    }
   ],
   "source": [
    "#Example using the 'and' operator\n",
    "\n",
    "print(1<2 and 2<3)\n",
    "print(1<2 and 3<2)"
   ]
  },
  {
   "cell_type": "code",
   "execution_count": 67,
   "metadata": {},
   "outputs": [
    {
     "name": "stdout",
     "output_type": "stream",
     "text": [
      "True\n"
     ]
    }
   ],
   "source": [
    "#Exampe using 'or' operator\n",
    "print(1<2 or 2>3)"
   ]
  },
  {
   "cell_type": "markdown",
   "metadata": {},
   "source": [
    "You can use logic operators on booleans, although this can get a bit confusing. \n",
    "\n",
    "True and False = False. \n",
    "\n",
    "This is because both operands must be true for the and operator to return true.\n",
    "\n",
    "True or False = True\n",
    "\n",
    "This is because either of the operands must be True."
   ]
  },
  {
   "attachments": {
    "image.png": {
     "image/png": "[encoded data removed]"
    }
   },
   "cell_type": "markdown",
   "metadata": {},
   "source": [
    "## If, Elif and Else Statements\n",
    "\n",
    "In many cases you may want to execute code if a condition is true. In such cases you can use the if, elif and else statements:\n",
    "\n",
    "![image.png](attachment:image.png)\n",
    "\n",
    "In the if statement the program will only do this if a is True and do that if a is false. By adding elif you can add another branch:\n",
    "\n",
    "![image.png](attachment:image.png)\n",
    "\n",
    "Here if a is True then do this if a is False then add elif, if b is True and a is False then do that and if a is False and b is False do whatever."
   ]
  },
  {
   "cell_type": "code",
   "execution_count": 70,
   "metadata": {},
   "outputs": [
    {
     "name": "stdout",
     "output_type": "stream",
     "text": [
      "yep!\n"
     ]
    }
   ],
   "source": [
    "# Example using if\n",
    "\n",
    "if 1 < 2:             \n",
    "    print('yep!')\n",
    "    \n",
    "#if condition is True then execute code indented below it!"
   ]
  },
  {
   "cell_type": "markdown",
   "metadata": {},
   "source": [
    "Example using the else statement"
   ]
  },
  {
   "cell_type": "code",
   "execution_count": 71,
   "metadata": {},
   "outputs": [
    {
     "name": "stdout",
     "output_type": "stream",
     "text": [
      "First\n"
     ]
    }
   ],
   "source": [
    "#Else example\n",
    "x = 2\n",
    "if x==2:\n",
    "    print('First')\n",
    "else:\n",
    "    print('last')\n",
    "    \n",
    "#This code says if this  condition is true execute indented code below\n",
    "#Otherwise if statement is not true execute code indented below\n",
    "#If and Else are not indented from each other so are linked"
   ]
  },
  {
   "cell_type": "markdown",
   "metadata": {},
   "source": [
    "Using the elif statement"
   ]
  },
  {
   "cell_type": "code",
   "execution_count": 72,
   "metadata": {},
   "outputs": [
    {
     "name": "stdout",
     "output_type": "stream",
     "text": [
      "middle\n"
     ]
    }
   ],
   "source": [
    "#Example using elif for multiple statements\n",
    "\n",
    "x = 4\n",
    "if x==2:\n",
    "    print('First')\n",
    "elif 3==3:\n",
    "    print('middle')\n",
    "else:\n",
    "    print('last')\n",
    "    "
   ]
  },
  {
   "cell_type": "markdown",
   "metadata": {},
   "source": [
    "## For Loops"
   ]
  },
  {
   "cell_type": "markdown",
   "metadata": {},
   "source": [
    "For loops are used in python to iterate over a sequence. This is understood best through a simple example as below, which can be understood through a for loops general format of:\n",
    "\n",
    "for element in list:\n",
    "    line of code you want to execute for each element"
   ]
  },
  {
   "cell_type": "code",
   "execution_count": 74,
   "metadata": {},
   "outputs": [
    {
     "name": "stdout",
     "output_type": "stream",
     "text": [
      "1\n",
      "2\n",
      "3\n",
      "4\n",
      "5\n",
      "6\n"
     ]
    }
   ],
   "source": [
    "#Create a sequence\n",
    "sequence = [1, 2, 3, 4, 5, 6]\n",
    "\n",
    "#Now we use a for loop to iterate over the list and print its elemeents out.\n",
    "for element in sequence:\n",
    "    print(element)"
   ]
  },
  {
   "cell_type": "markdown",
   "metadata": {},
   "source": [
    "The indented code which we want to perform on each element in the list through a for loop can be as advanced or simple as we like:"
   ]
  },
  {
   "cell_type": "code",
   "execution_count": 75,
   "metadata": {},
   "outputs": [
    {
     "name": "stdout",
     "output_type": "stream",
     "text": [
      "2\n",
      "3\n",
      "4\n",
      "5\n",
      "6\n"
     ]
    }
   ],
   "source": [
    "s = [1, 2, 3, 4, 5]\n",
    "for num in s:\n",
    "    print(num + 1)"
   ]
  },
  {
   "cell_type": "markdown",
   "metadata": {},
   "source": [
    "## Range and xrange\n",
    "\n",
    "For loops can be used to iterate over a sequence of numbers using the 'range' and 'xrange' functions. the range(start, end) function returns a list of integers from the indicated to start up to bu not including the indicated end."
   ]
  },
  {
   "cell_type": "code",
   "execution_count": 78,
   "metadata": {},
   "outputs": [
    {
     "name": "stdout",
     "output_type": "stream",
     "text": [
      "2\n",
      "3\n",
      "4\n",
      "5\n",
      "6\n",
      "7\n"
     ]
    }
   ],
   "source": [
    "for x in range(2, 8):\n",
    "    print(x)"
   ]
  },
  {
   "cell_type": "markdown",
   "metadata": {},
   "source": [
    "xrange(start,end) is only different in that it is more efficient as rather than returning a list object like range it returns an xrange object."
   ]
  },
  {
   "cell_type": "code",
   "execution_count": 80,
   "metadata": {},
   "outputs": [
    {
     "name": "stdout",
     "output_type": "stream",
     "text": [
      "[0, 1, 2, 3, 4, 5, 6, 7, 8, 9]\n"
     ]
    }
   ],
   "source": [
    "print(list(range(10)))"
   ]
  },
  {
   "cell_type": "markdown",
   "metadata": {},
   "source": [
    "## While loops"
   ]
  },
  {
   "cell_type": "markdown",
   "metadata": {},
   "source": [
    "A while loop is just a control flow statement where by it will run the indented code below, while a boolean condition is met. For example:"
   ]
  },
  {
   "cell_type": "code",
   "execution_count": 83,
   "metadata": {},
   "outputs": [
    {
     "name": "stdout",
     "output_type": "stream",
     "text": [
      "0\n",
      "1\n",
      "2\n"
     ]
    }
   ],
   "source": [
    "count = 0\n",
    "while count < 3:\n",
    "    print(count)\n",
    "    count += 1 #makes sure count adds 1 each time."
   ]
  },
  {
   "cell_type": "markdown",
   "metadata": {},
   "source": [
    "## List comprehension"
   ]
  },
  {
   "cell_type": "markdown",
   "metadata": {},
   "source": [
    "In python the process of defining and creating lists can be tedious, additionally, using the for loop before can become confusing as it takes up numerous lines of code. Thus python has a built-in method of creating lists in a short line of code known as list comprehension. But first lets see how we can create a list with a for loop:"
   ]
  },
  {
   "cell_type": "code",
   "execution_count": 85,
   "metadata": {},
   "outputs": [
    {
     "name": "stdout",
     "output_type": "stream",
     "text": [
      "[1, 8, 27, 64]\n"
     ]
    }
   ],
   "source": [
    "x = [1, 2, 3, 4]\n",
    "\n",
    "#Lets create an empty list\n",
    "l =  []\n",
    "\n",
    "#we can now fill this empty list with a for loop\n",
    "for num in x:\n",
    "    l.append(num**3)\n",
    "print(l)"
   ]
  },
  {
   "cell_type": "markdown",
   "metadata": {},
   "source": [
    "The above can be acieved much more simply using list comprehnsion:"
   ]
  },
  {
   "cell_type": "code",
   "execution_count": 86,
   "metadata": {},
   "outputs": [
    {
     "name": "stdout",
     "output_type": "stream",
     "text": [
      "[1, 8, 27, 64, 125]\n"
     ]
    }
   ],
   "source": [
    "x = [ 1, 2, 3, 4, 5]\n",
    "l = [num**3 for num in x]\n",
    "print(l)"
   ]
  },
  {
   "cell_type": "markdown",
   "metadata": {},
   "source": [
    "So above we can see that list comprehension has the general format of:\n",
    "\n",
    "list = [x for x in iterable]"
   ]
  },
  {
   "cell_type": "markdown",
   "metadata": {},
   "source": [
    "## Functions"
   ]
  },
  {
   "cell_type": "markdown",
   "metadata": {},
   "source": [
    "Functions are a method in python of dividing your code into useful sections, which you do not have to write over and over again. Functions make python code more readable, despite looking slightly confusing at first. \n",
    "\n",
    "The function in python is defined using the 'def' word:"
   ]
  },
  {
   "cell_type": "code",
   "execution_count": 87,
   "metadata": {},
   "outputs": [],
   "source": [
    "def hello_funct():\n",
    "    print(\"Hello from Python\")"
   ]
  },
  {
   "cell_type": "markdown",
   "metadata": {},
   "source": [
    "Now we have defined a function to print something or run the function we must first call upon the function using the function name followed by parenthesis:"
   ]
  },
  {
   "cell_type": "code",
   "execution_count": 88,
   "metadata": {},
   "outputs": [
    {
     "name": "stdout",
     "output_type": "stream",
     "text": [
      "Hello from Python\n"
     ]
    }
   ],
   "source": [
    "hello_funct()"
   ]
  },
  {
   "cell_type": "markdown",
   "metadata": {},
   "source": [
    "Now we have looked at the simplest possible function we can look into the addition of parameters to out functions. The parameters are specified after the function name in the parenthesis (you can add as many as you like and just remember to seperate them with a comma). Lets look as an example with one parameter:"
   ]
  },
  {
   "cell_type": "code",
   "execution_count": 89,
   "metadata": {},
   "outputs": [
    {
     "name": "stdout",
     "output_type": "stream",
     "text": [
      "hi\n"
     ]
    }
   ],
   "source": [
    "def this_func(p1):\n",
    "    print(p1)\n",
    "this_func('hi')"
   ]
  },
  {
   "cell_type": "code",
   "execution_count": 90,
   "metadata": {},
   "outputs": [
    {
     "name": "stdout",
     "output_type": "stream",
     "text": [
      "hello calum\n"
     ]
    }
   ],
   "source": [
    "def my_function(name):\n",
    "    print('hello '+ name)\n",
    "    #the plus concatinates two strings\n",
    "my_function('calum')"
   ]
  },
  {
   "cell_type": "markdown",
   "metadata": {},
   "source": [
    "### Default parameters\n",
    "\n",
    "In functions we can define default parameters which are used if we do not present a parameter when we call on the function, for example:"
   ]
  },
  {
   "cell_type": "code",
   "execution_count": 91,
   "metadata": {},
   "outputs": [
    {
     "name": "stdout",
     "output_type": "stream",
     "text": [
      "Are you from Canada\n"
     ]
    }
   ],
   "source": [
    "def my_func(country = \"Canada\"):\n",
    "    print(\"Are you from \" + country)\n",
    "my_func()"
   ]
  },
  {
   "cell_type": "code",
   "execution_count": 92,
   "metadata": {},
   "outputs": [
    {
     "name": "stdout",
     "output_type": "stream",
     "text": [
      "Are you from UK\n"
     ]
    }
   ],
   "source": [
    "#define a parameter and it will use the defined parameter not the default\n",
    "my_func(\"UK\")"
   ]
  },
  {
   "cell_type": "markdown",
   "metadata": {},
   "source": [
    "### Return statement\n",
    "\n",
    "We can use the return statement to retaurn a value"
   ]
  },
  {
   "cell_type": "code",
   "execution_count": 95,
   "metadata": {},
   "outputs": [
    {
     "data": {
      "text/plain": [
       "36"
      ]
     },
     "execution_count": 95,
     "metadata": {},
     "output_type": "execute_result"
    }
   ],
   "source": [
    "def my_func(x):\n",
    "    return (num+2)**2\n",
    "my_func(5)"
   ]
  },
  {
   "cell_type": "code",
   "execution_count": null,
   "metadata": {},
   "outputs": [],
   "source": []
  }
 ],
 "metadata": {
  "kernelspec": {
   "display_name": "Python 3",
   "language": "python",
   "name": "python3"
  },
  "language_info": {
   "codemirror_mode": {
    "name": "ipython",
    "version": 3
   },
   "file_extension": ".py",
   "mimetype": "text/x-python",
   "name": "python",
   "nbconvert_exporter": "python",
   "pygments_lexer": "ipython3",
   "version": "3.6.5"
  }
 },
 "nbformat": 4,
 "nbformat_minor": 2
}
