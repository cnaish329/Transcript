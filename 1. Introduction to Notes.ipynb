{
 "cells": [
  {
   "cell_type": "markdown",
   "metadata": {},
   "source": [
    "# Python for Data Science Courses"
   ]
  },
  {
   "cell_type": "markdown",
   "metadata": {},
   "source": [
    "## What is Python\n",
    "\n",
    "Python is an object-oriented, high-level programming language with integrated semantics primarily for web and app development. This statement is quite technical, so lets break it down. Python is classed as an object-orientated programming language, this is one of 6 main \"programming paradigms (or languages)\", a programing paradigm is a fundemental style by which you build the structure and elements of a programming language. The 6 main paradigms are:\n",
    "\n",
    "1) **Imperative**\n",
    "\n",
    "2) **Object-oriented**\n",
    "\n",
    "3) **Logic**\n",
    "\n",
    "4) **Symbolic**\n",
    "\n",
    "5) **Declarative**\n",
    "\n",
    "6) **Functional**\n",
    "\n",
    "This course focuses on python, therefore only object-orientated paradigm's will be discussed. Object-oriented programming (OOP) is a type of programming in which the programmers define not only the data type of a data structure but also the types of operations/functions that can be applied to the data structure. In this way the data structure becomes an object which includes both the data and the functions. Additionally, in such programming languages, programmers can create relationships between one object and another. \n",
    "\n",
    "Before delving deeper it is important to understand what and the differences between objects and classes in OOP. A class is often thought of as a type of blue print (lets say a blue print for a house), the blue print doesn't actually do anything but simply presents a set of instructions from which you can produce something tangible. In programming the class ( or blueprint) is a template (which can contain both data and code), then more code can be written to use the class to create a new object. A good example would be a class is a blue print for employee data, containing names and email adddresses; from this we create an object of name \"Grant\" and email address grant86@yahoo.com. Later  the code can be made to produce a different object from the class (i.e can create multiple objects which contain inforamtion from the original class). \n",
    "\n",
    "Now the difference between classes and objects is known we can move onto the main concepts of object oriented programming (OOP). These are often summarised in literature through the 4 pillars of OOP:\n",
    "\n",
    "- **Abstraction** = is a process where you show only “relevant” data and “hide” unnecessary details of an object from the user. Consider your mobile phone, you just need to know what buttons are to be pressed to send a message or make a call, What happens when you press a button, how your messages are sent, how your calls are connected is all abstracted away from the user.\n",
    "- **Encapsulation** = is the process of combining data and functions into a single unit called class. In Encapsulation, the data is not accessed directly; it is accessed through the functions present inside the class. In simpler words, attributes of the class are kept private and public getter and setter methods are provided to manipulate these attributes. Thus, encapsulation makes the concept of data hiding possible.\n",
    "- **Inheritance** = enables new classes to receive—or inherit—the properties and methods of existing classes.\n",
    "- **Polymorphism** = polymorphism refers to a programming language's ability to process objects differently depending on their data type or class. More specifically, it is the ability to redefine methods for derived classes. For example, given a base class shape, polymorphism enables the programmer to define different area methods for any number of derived classes, such as circles, rectangles and triangles. No matter what shape an object is, applying the area method to it will return the correct results. \n",
    "\n",
    "The next bit of technical language in the definition of python is the use of \"high-level programming language\". Essentially, a high level language is one that is easyer for humans to understand/use and a low level is one that is closer to what computers understand. High level languages have the advantage of being easier to program, however, they are often less effient and take longer to run (this is not always true as effiency is heavily dependant on the code itself). As a general rule high level languages are used if it is the programmers time that is the limiting factor and lower level if computational time is the limiting factor.\n",
    "\n",
    "Anyway, enough with the technical detail of what python is, lets take a look at the basics of programming. In the following section the basic concepts of programming in python and how to apply them to tackle problems will be breifly overviewed with a number of examples and live code. Notably this assumes a small level of python experience and if you are reading this and have no experience with python I suggest undertaking the following 4 hour python programming intro course on data camp:\n",
    "\n",
    "https://www.datacamp.com/courses/intro-to-python-for-data-science?utm_source=adwords_ppc&utm_campaignid=805200711&utm_adgroupid=52995812796&utm_device=c&utm_keyword=%2Bdata%20%2Bcamp&utm_matchtype=b&utm_network=g&utm_adpostion=1t1&utm_creative=256609492038&utm_targetid=aud-334851567295:kwd-532683736032&utm_loc_interest_ms=&utm_loc_physical_ms=9045630&gclid=CjwKCAjw1tDaBRAMEiwA0rYbSO3Mr-FbR-PN4PD5ShslqLCR5UB_zzJtWa8mWkrB4BgN4icI1DiLABoCf2MQAvD_BwE\n",
    "\n",
    "Importantly the best way to learn is to do!!! So I advise you to play around with the code given and use the concepts learn in a new notebook to solve your own problems."
   ]
  },
  {
   "cell_type": "markdown",
   "metadata": {},
   "source": [
    "## Course Content\n",
    "\n",
    "This course is made up of documents of notes. These notes will range in content from beginner concepts to more advance data analysis and visualization python package information and notes:\n",
    "\n",
    " 1) Python Basics.\n",
    " \n",
    " 2) Data Analysis (Numpy, Pandas, SciPy).\n",
    " \n",
    " 3) Data Visualization (Matplotlib, seaborn, plotly, gg plot, bokeh, pygal, altair, Geoplot lib, Geopandas, Folium)."
   ]
  },
  {
   "cell_type": "markdown",
   "metadata": {},
   "source": [
    "## Jupyter Notebooks"
   ]
  },
  {
   "cell_type": "markdown",
   "metadata": {},
   "source": [
    "Jupyter notebook is an open-source web application which allows you to create and share documents that contain live code, equations visualizations and narrative text. Due to its ease of use and ability to include different coding languages and narrative text, the notebook is an excellent way to learn python and is also asthetically pleasing. For these reasons these notes are presented in notebook. \n",
    "\n",
    "To download and install Python and Jupyter please use the following link, I suggest installing the Anaconda Distribution (includes python 3):\n",
    "\n",
    "http://jupyter.org/install.html\n",
    "\n",
    "To open the notebook, either type in jupyter notebook in your windows search bar and open the application, this will open up the notebook in your browser. Alternatively, to run the notebook type in the command prompt: jupyter notebook.\n",
    "\n",
    "If this is your first time using notebooks I strongly recoment reading through the following link or watching some videos which explain the various short cuts, layout options and operations you can perform in the notebook such as how to run your code and create narrative texts:\n",
    "\n",
    "https://www.dataquest.io/blog/jupyter-notebook-tutorial/\n"
   ]
  },
  {
   "cell_type": "markdown",
   "metadata": {},
   "source": [
    "## Installing Python Packages"
   ]
  },
  {
   "cell_type": "markdown",
   "metadata": {},
   "source": [
    "After the beginner concepts we will make use of the various python libraries or modules. These are essentially files containing python defintions and statements or files of code. These can be imported into your script for various specific functions, they basically save you having to write a load of code to perform in function as you can simply import a script in that someone has made which can perform the function for you."
   ]
  },
  {
   "cell_type": "markdown",
   "metadata": {},
   "source": [
    "If you have installed python through Anaconda it comes prepackaged with over 100+ open source packages. However, in the case you need to install a package or module there are two main ways:\n",
    "\n",
    "- through pip\n",
    "- through conda prompt\n",
    "\n",
    "We will breifly discuss how you can use both options to download python packages."
   ]
  },
  {
   "attachments": {},
   "cell_type": "markdown",
   "metadata": {},
   "source": [
    "For this course we make the assumption you have installed python through Anaconda, thus you can use the conda prompt terminal. This can be found by typing in anaconda to your windows start bar - then click on the anaconda prompt.\n",
    "\n",
    "In this terminal you can simply type in:\n",
    "\n",
    "conda install --name_of_package\n",
    "\n",
    "and run the code. This will install the package."
   ]
  },
  {
   "cell_type": "markdown",
   "metadata": {},
   "source": [
    "## End of Introduction. Next we will start to look at some beginner concepts in python"
   ]
  },
  {
   "cell_type": "code",
   "execution_count": null,
   "metadata": {},
   "outputs": [],
   "source": []
  }
 ],
 "metadata": {
  "kernelspec": {
   "display_name": "Python 3",
   "language": "python",
   "name": "python3"
  },
  "language_info": {
   "codemirror_mode": {
    "name": "ipython",
    "version": 3
   },
   "file_extension": ".py",
   "mimetype": "text/x-python",
   "name": "python",
   "nbconvert_exporter": "python",
   "pygments_lexer": "ipython3",
   "version": "3.6.5"
  }
 },
 "nbformat": 4,
 "nbformat_minor": 2
}
